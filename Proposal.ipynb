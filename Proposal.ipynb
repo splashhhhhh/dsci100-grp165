{
 "cells": [
  {
   "cell_type": "markdown",
   "id": "e5463aeb-01b3-4275-8650-100f721618e3",
   "metadata": {
    "tags": []
   },
   "source": [
    "# **DSCI 100 009 - Group 165 Proposal - Pulsar Stars**"
   ]
  },
  {
   "cell_type": "markdown",
   "id": "ac7ca1b8-5fe4-43aa-8b51-dc00b3e181ec",
   "metadata": {},
   "source": [
    " - By Jasmine Bodis, Nilay Kumar, Muhan Yang, and Zhedong Wang"
   ]
  },
  {
   "cell_type": "markdown",
   "id": "4f12be05-27dc-4ed6-bff7-6840ae035459",
   "metadata": {
    "tags": []
   },
   "source": [
    "## *Introduction*"
   ]
  },
  {
   "cell_type": "markdown",
   "id": "6bbc07be-7bdb-4c1d-a4ca-ac38f0cb8efa",
   "metadata": {},
   "source": [
    "### 1) Background Information"
   ]
  },
  {
   "cell_type": "markdown",
   "id": "1debaeac-1e46-46db-a745-f8942004f50e",
   "metadata": {},
   "source": [
    "Pulsar is a neutron star that can produce radio waves detectable from Earth. When it spins at a high speed, scientists can detect its radio wave patterns. For each rotation, the radio wave pattern emitted is distinctive. Therefore, each sample collected in the dataset refers to the average radio waves produced by multiple rotations.\n",
    "\n",
    "However, not all detected radio waves are produced by pulsars. Majority of the detections are radio frequency interference (RFI) or noise in space instead of real pulsar signals. Therefore, the dataset contains mostly negative class samples (Class 0), which is the detection of RFI/noise."
   ]
  },
  {
   "cell_type": "markdown",
   "id": "023776b7-b46e-4e93-8291-73fc912141f7",
   "metadata": {},
   "source": [
    "### 2) Question of the Project"
   ]
  },
  {
   "cell_type": "markdown",
   "id": "cf391e78-e0c0-44b7-8022-208ea8d5c939",
   "metadata": {},
   "source": [
    "Using the mean and excess kurtosis of the integrated profile columns from the pulsar dataset, can we use the knn-classification method to predict whether a signal is from a pulsar star or radio frequency interference/noise?"
   ]
  },
  {
   "cell_type": "markdown",
   "id": "d369d5d3-9369-4402-8709-767c3c8e78cb",
   "metadata": {
    "tags": []
   },
   "source": [
    "### 3) Dataset Description"
   ]
  },
  {
   "cell_type": "markdown",
   "id": "14f81af0-a6f8-489e-aef7-2a2e9678281d",
   "metadata": {},
   "source": [
    "The dataset we are using is downloaded from UCI Machine Learning Repository. The url is: https://archive.ics.uci.edu/ml/datasets/HTRU2 . The name of the dataset is HTRU2, describing a collected sample of pulsar candidates in the High Time Resolution Universe Survey (South).\n",
    "\n",
    "HTRU2 consists of 17,898 samples (rows) and 9 columns in total, with 8 columns of continuous variables and 1 column of class variable represented by 0 (negative) and 1 (positive) which can be used for binary classification problems. The negative class consists of samples caused by RFI/noise, whereas the positive class refers to real pulsar samples.\n",
    "\n",
    "Within 8 continuous variables, the first four refers to the mean, standard deviation, excess kurtosis, and the skewness of the integrated pulse profile wave, and the latter four indicates the same four pieces of statistics but now of the DM-SNR (Dispersion Measure - Signal-to-Noise Ratio) curve created during the signal."
   ]
  },
  {
   "cell_type": "markdown",
   "id": "fe97a3f7-acb7-4010-9c34-918cdff8f46f",
   "metadata": {},
   "source": [
    "## *Preliminary Exploratory Data Analysis*"
   ]
  },
  {
   "cell_type": "code",
   "execution_count": 3,
   "id": "4b283946-df3e-42b6-b934-008531438e38",
   "metadata": {},
   "outputs": [
    {
     "name": "stderr",
     "output_type": "stream",
     "text": [
      "── \u001b[1mAttaching packages\u001b[22m ─────────────────────────────────────── tidyverse 1.3.1 ──\n",
      "\n",
      "\u001b[32m✔\u001b[39m \u001b[34mggplot2\u001b[39m 3.3.6     \u001b[32m✔\u001b[39m \u001b[34mpurrr  \u001b[39m 0.3.4\n",
      "\u001b[32m✔\u001b[39m \u001b[34mtibble \u001b[39m 3.1.7     \u001b[32m✔\u001b[39m \u001b[34mdplyr  \u001b[39m 1.0.9\n",
      "\u001b[32m✔\u001b[39m \u001b[34mtidyr  \u001b[39m 1.2.0     \u001b[32m✔\u001b[39m \u001b[34mstringr\u001b[39m 1.4.0\n",
      "\u001b[32m✔\u001b[39m \u001b[34mreadr  \u001b[39m 2.1.2     \u001b[32m✔\u001b[39m \u001b[34mforcats\u001b[39m 0.5.1\n",
      "\n",
      "── \u001b[1mConflicts\u001b[22m ────────────────────────────────────────── tidyverse_conflicts() ──\n",
      "\u001b[31m✖\u001b[39m \u001b[34mdplyr\u001b[39m::\u001b[32mfilter()\u001b[39m masks \u001b[34mstats\u001b[39m::filter()\n",
      "\u001b[31m✖\u001b[39m \u001b[34mdplyr\u001b[39m::\u001b[32mlag()\u001b[39m    masks \u001b[34mstats\u001b[39m::lag()\n",
      "\n",
      "\n",
      "Attaching package: ‘dbplyr’\n",
      "\n",
      "\n",
      "The following objects are masked from ‘package:dplyr’:\n",
      "\n",
      "    ident, sql\n",
      "\n",
      "\n",
      "── \u001b[1mAttaching packages\u001b[22m ────────────────────────────────────── tidymodels 1.0.0 ──\n",
      "\n",
      "\u001b[32m✔\u001b[39m \u001b[34mbroom       \u001b[39m 1.0.0     \u001b[32m✔\u001b[39m \u001b[34mrsample     \u001b[39m 1.0.0\n",
      "\u001b[32m✔\u001b[39m \u001b[34mdials       \u001b[39m 1.0.0     \u001b[32m✔\u001b[39m \u001b[34mtune        \u001b[39m 1.0.0\n",
      "\u001b[32m✔\u001b[39m \u001b[34minfer       \u001b[39m 1.0.2     \u001b[32m✔\u001b[39m \u001b[34mworkflows   \u001b[39m 1.0.0\n",
      "\u001b[32m✔\u001b[39m \u001b[34mmodeldata   \u001b[39m 1.0.0     \u001b[32m✔\u001b[39m \u001b[34mworkflowsets\u001b[39m 1.0.0\n",
      "\u001b[32m✔\u001b[39m \u001b[34mparsnip     \u001b[39m 1.0.0     \u001b[32m✔\u001b[39m \u001b[34myardstick   \u001b[39m 1.0.0\n",
      "\u001b[32m✔\u001b[39m \u001b[34mrecipes     \u001b[39m 1.0.1     \n",
      "\n",
      "── \u001b[1mConflicts\u001b[22m ───────────────────────────────────────── tidymodels_conflicts() ──\n",
      "\u001b[31m✖\u001b[39m \u001b[34mscales\u001b[39m::\u001b[32mdiscard()\u001b[39m masks \u001b[34mpurrr\u001b[39m::discard()\n",
      "\u001b[31m✖\u001b[39m \u001b[34mdplyr\u001b[39m::\u001b[32mfilter()\u001b[39m   masks \u001b[34mstats\u001b[39m::filter()\n",
      "\u001b[31m✖\u001b[39m \u001b[34mrecipes\u001b[39m::\u001b[32mfixed()\u001b[39m  masks \u001b[34mstringr\u001b[39m::fixed()\n",
      "\u001b[31m✖\u001b[39m \u001b[34mdbplyr\u001b[39m::\u001b[32mident()\u001b[39m   masks \u001b[34mdplyr\u001b[39m::ident()\n",
      "\u001b[31m✖\u001b[39m \u001b[34mdplyr\u001b[39m::\u001b[32mlag()\u001b[39m      masks \u001b[34mstats\u001b[39m::lag()\n",
      "\u001b[31m✖\u001b[39m \u001b[34myardstick\u001b[39m::\u001b[32mspec()\u001b[39m masks \u001b[34mreadr\u001b[39m::spec()\n",
      "\u001b[31m✖\u001b[39m \u001b[34mdbplyr\u001b[39m::\u001b[32msql()\u001b[39m     masks \u001b[34mdplyr\u001b[39m::sql()\n",
      "\u001b[31m✖\u001b[39m \u001b[34mrecipes\u001b[39m::\u001b[32mstep()\u001b[39m   masks \u001b[34mstats\u001b[39m::step()\n",
      "\u001b[34m•\u001b[39m Dig deeper into tidy modeling with R at \u001b[32mhttps://www.tmwr.org\u001b[39m\n",
      "\n"
     ]
    }
   ],
   "source": [
    "library(tidyverse)\n",
    "library(readxl)\n",
    "library(DBI)\n",
    "library(dbplyr)\n",
    "library(RPostgres)\n",
    "library(repr)\n",
    "library(tidymodels)\n",
    "options(repr.matrix.max.rows = 10)"
   ]
  },
  {
   "cell_type": "code",
   "execution_count": 4,
   "id": "ba47780e-51a8-4e81-a4a4-0ce699474921",
   "metadata": {},
   "outputs": [
    {
     "name": "stderr",
     "output_type": "stream",
     "text": [
      "\u001b[1mRows: \u001b[22m\u001b[34m17898\u001b[39m \u001b[1mColumns: \u001b[22m\u001b[34m9\u001b[39m\n",
      "\u001b[36m──\u001b[39m \u001b[1mColumn specification\u001b[22m \u001b[36m────────────────────────────────────────────────────────\u001b[39m\n",
      "\u001b[1mDelimiter:\u001b[22m \",\"\n",
      "\u001b[32mdbl\u001b[39m (9): X1, X2, X3, X4, X5, X6, X7, X8, X9\n",
      "\n",
      "\u001b[36mℹ\u001b[39m Use `spec()` to retrieve the full column specification for this data.\n",
      "\u001b[36mℹ\u001b[39m Specify the column types or set `show_col_types = FALSE` to quiet this message.\n"
     ]
    },
    {
     "name": "stdout",
     "output_type": "stream",
     "text": [
      "\u001b[90m# A tibble: 17,898 × 9\u001b[39m\n",
      "   mean_ip sd_ip kurt_ip skew_ip mean_dmsnr sd_dmsnr kurt_dmsnr skew_dmsnr class\n",
      "     \u001b[3m\u001b[90m<dbl>\u001b[39m\u001b[23m \u001b[3m\u001b[90m<dbl>\u001b[39m\u001b[23m   \u001b[3m\u001b[90m<dbl>\u001b[39m\u001b[23m   \u001b[3m\u001b[90m<dbl>\u001b[39m\u001b[23m      \u001b[3m\u001b[90m<dbl>\u001b[39m\u001b[23m    \u001b[3m\u001b[90m<dbl>\u001b[39m\u001b[23m      \u001b[3m\u001b[90m<dbl>\u001b[39m\u001b[23m      \u001b[3m\u001b[90m<dbl>\u001b[39m\u001b[23m \u001b[3m\u001b[90m<dbl>\u001b[39m\u001b[23m\n",
      "\u001b[90m 1\u001b[39m   141.   55.7 -\u001b[31m0\u001b[39m\u001b[31m.\u001b[39m\u001b[31m235\u001b[39m   -\u001b[31m0\u001b[39m\u001b[31m.\u001b[39m\u001b[31m700\u001b[39m      3.20     19.1        7.98       74.2     0\n",
      "\u001b[90m 2\u001b[39m   103.   58.9  0.465   -\u001b[31m0\u001b[39m\u001b[31m.\u001b[39m\u001b[31m515\u001b[39m      1.68     14.9       10.6       127.      0\n",
      "\u001b[90m 3\u001b[39m   103.   39.3  0.323    1.05       3.12     21.7        7.74       63.2     0\n",
      "\u001b[90m 4\u001b[39m   137.   57.2 -\u001b[31m0\u001b[39m\u001b[31m.\u001b[39m\u001b[31m0\u001b[39m\u001b[31m68\u001b[4m4\u001b[24m\u001b[39m  -\u001b[31m0\u001b[39m\u001b[31m.\u001b[39m\u001b[31m636\u001b[39m      3.64     21.0        6.90       53.6     0\n",
      "\u001b[90m 5\u001b[39m    88.7  40.7  0.601    1.12       1.18     11.5       14.3       253.      0\n",
      "\u001b[90m 6\u001b[39m    93.6  46.7  0.532    0.417      1.64     14.5       10.6       131.      0\n",
      "\u001b[90m 7\u001b[39m   119.   48.8  0.031\u001b[4m5\u001b[24m  -\u001b[31m0\u001b[39m\u001b[31m.\u001b[39m\u001b[31m112\u001b[39m      0.999     9.28      19.2       480.      0\n",
      "\u001b[90m 8\u001b[39m   130.   39.8 -\u001b[31m0\u001b[39m\u001b[31m.\u001b[39m\u001b[31m158\u001b[39m    0.390      1.22     14.4       13.5       198.      0\n",
      "\u001b[90m 9\u001b[39m   107.   52.6  0.453    0.170      2.33     14.5        9.00      108.      0\n",
      "\u001b[90m10\u001b[39m   107.   39.5  0.466    1.16       4.08     25.0        7.40       57.8     0\n",
      "\u001b[90m# … with 17,888 more rows\u001b[39m\n"
     ]
    },
    {
     "data": {
      "text/html": [
       "<table class=\"dataframe\">\n",
       "<caption>A tibble: 10 × 9</caption>\n",
       "<thead>\n",
       "\t<tr><th scope=col>mean_ip</th><th scope=col>sd_ip</th><th scope=col>kurt_ip</th><th scope=col>skew_ip</th><th scope=col>mean_dmsnr</th><th scope=col>sd_dmsnr</th><th scope=col>kurt_dmsnr</th><th scope=col>skew_dmsnr</th><th scope=col>class</th></tr>\n",
       "\t<tr><th scope=col>&lt;dbl&gt;</th><th scope=col>&lt;dbl&gt;</th><th scope=col>&lt;dbl&gt;</th><th scope=col>&lt;dbl&gt;</th><th scope=col>&lt;dbl&gt;</th><th scope=col>&lt;dbl&gt;</th><th scope=col>&lt;dbl&gt;</th><th scope=col>&lt;dbl&gt;</th><th scope=col>&lt;dbl&gt;</th></tr>\n",
       "</thead>\n",
       "<tbody>\n",
       "\t<tr><td>140.56250</td><td>55.68378</td><td>-0.23457141</td><td>-0.6996484</td><td>3.1998328</td><td>19.110426</td><td> 7.975532</td><td> 74.24222</td><td>0</td></tr>\n",
       "\t<tr><td>102.50781</td><td>58.88243</td><td> 0.46531815</td><td>-0.5150879</td><td>1.6772575</td><td>14.860146</td><td>10.576487</td><td>127.39358</td><td>0</td></tr>\n",
       "\t<tr><td>103.01562</td><td>39.34165</td><td> 0.32332837</td><td> 1.0511644</td><td>3.1212375</td><td>21.744669</td><td> 7.735822</td><td> 63.17191</td><td>0</td></tr>\n",
       "\t<tr><td>136.75000</td><td>57.17845</td><td>-0.06841464</td><td>-0.6362384</td><td>3.6429766</td><td>20.959280</td><td> 6.896499</td><td> 53.59366</td><td>0</td></tr>\n",
       "\t<tr><td> 88.72656</td><td>40.67223</td><td> 0.60086608</td><td> 1.1234917</td><td>1.1789298</td><td>11.468720</td><td>14.269573</td><td>252.56731</td><td>0</td></tr>\n",
       "\t<tr><td> 93.57031</td><td>46.69811</td><td> 0.53190485</td><td> 0.4167211</td><td>1.6362876</td><td>14.545074</td><td>10.621748</td><td>131.39400</td><td>0</td></tr>\n",
       "\t<tr><td>119.48438</td><td>48.76506</td><td> 0.03146022</td><td>-0.1121676</td><td>0.9991639</td><td> 9.279612</td><td>19.206230</td><td>479.75657</td><td>0</td></tr>\n",
       "\t<tr><td>130.38281</td><td>39.84406</td><td>-0.15832276</td><td> 0.3895404</td><td>1.2207358</td><td>14.378941</td><td>13.539456</td><td>198.23646</td><td>0</td></tr>\n",
       "\t<tr><td>107.25000</td><td>52.62708</td><td> 0.45268802</td><td> 0.1703474</td><td>2.3319398</td><td>14.486853</td><td> 9.001004</td><td>107.97251</td><td>0</td></tr>\n",
       "\t<tr><td>107.25781</td><td>39.49649</td><td> 0.46588196</td><td> 1.1628771</td><td>4.0794314</td><td>24.980418</td><td> 7.397080</td><td> 57.78474</td><td>0</td></tr>\n",
       "</tbody>\n",
       "</table>\n"
      ],
      "text/latex": [
       "A tibble: 10 × 9\n",
       "\\begin{tabular}{lllllllll}\n",
       " mean\\_ip & sd\\_ip & kurt\\_ip & skew\\_ip & mean\\_dmsnr & sd\\_dmsnr & kurt\\_dmsnr & skew\\_dmsnr & class\\\\\n",
       " <dbl> & <dbl> & <dbl> & <dbl> & <dbl> & <dbl> & <dbl> & <dbl> & <dbl>\\\\\n",
       "\\hline\n",
       "\t 140.56250 & 55.68378 & -0.23457141 & -0.6996484 & 3.1998328 & 19.110426 &  7.975532 &  74.24222 & 0\\\\\n",
       "\t 102.50781 & 58.88243 &  0.46531815 & -0.5150879 & 1.6772575 & 14.860146 & 10.576487 & 127.39358 & 0\\\\\n",
       "\t 103.01562 & 39.34165 &  0.32332837 &  1.0511644 & 3.1212375 & 21.744669 &  7.735822 &  63.17191 & 0\\\\\n",
       "\t 136.75000 & 57.17845 & -0.06841464 & -0.6362384 & 3.6429766 & 20.959280 &  6.896499 &  53.59366 & 0\\\\\n",
       "\t  88.72656 & 40.67223 &  0.60086608 &  1.1234917 & 1.1789298 & 11.468720 & 14.269573 & 252.56731 & 0\\\\\n",
       "\t  93.57031 & 46.69811 &  0.53190485 &  0.4167211 & 1.6362876 & 14.545074 & 10.621748 & 131.39400 & 0\\\\\n",
       "\t 119.48438 & 48.76506 &  0.03146022 & -0.1121676 & 0.9991639 &  9.279612 & 19.206230 & 479.75657 & 0\\\\\n",
       "\t 130.38281 & 39.84406 & -0.15832276 &  0.3895404 & 1.2207358 & 14.378941 & 13.539456 & 198.23646 & 0\\\\\n",
       "\t 107.25000 & 52.62708 &  0.45268802 &  0.1703474 & 2.3319398 & 14.486853 &  9.001004 & 107.97251 & 0\\\\\n",
       "\t 107.25781 & 39.49649 &  0.46588196 &  1.1628771 & 4.0794314 & 24.980418 &  7.397080 &  57.78474 & 0\\\\\n",
       "\\end{tabular}\n"
      ],
      "text/markdown": [
       "\n",
       "A tibble: 10 × 9\n",
       "\n",
       "| mean_ip &lt;dbl&gt; | sd_ip &lt;dbl&gt; | kurt_ip &lt;dbl&gt; | skew_ip &lt;dbl&gt; | mean_dmsnr &lt;dbl&gt; | sd_dmsnr &lt;dbl&gt; | kurt_dmsnr &lt;dbl&gt; | skew_dmsnr &lt;dbl&gt; | class &lt;dbl&gt; |\n",
       "|---|---|---|---|---|---|---|---|---|\n",
       "| 140.56250 | 55.68378 | -0.23457141 | -0.6996484 | 3.1998328 | 19.110426 |  7.975532 |  74.24222 | 0 |\n",
       "| 102.50781 | 58.88243 |  0.46531815 | -0.5150879 | 1.6772575 | 14.860146 | 10.576487 | 127.39358 | 0 |\n",
       "| 103.01562 | 39.34165 |  0.32332837 |  1.0511644 | 3.1212375 | 21.744669 |  7.735822 |  63.17191 | 0 |\n",
       "| 136.75000 | 57.17845 | -0.06841464 | -0.6362384 | 3.6429766 | 20.959280 |  6.896499 |  53.59366 | 0 |\n",
       "|  88.72656 | 40.67223 |  0.60086608 |  1.1234917 | 1.1789298 | 11.468720 | 14.269573 | 252.56731 | 0 |\n",
       "|  93.57031 | 46.69811 |  0.53190485 |  0.4167211 | 1.6362876 | 14.545074 | 10.621748 | 131.39400 | 0 |\n",
       "| 119.48438 | 48.76506 |  0.03146022 | -0.1121676 | 0.9991639 |  9.279612 | 19.206230 | 479.75657 | 0 |\n",
       "| 130.38281 | 39.84406 | -0.15832276 |  0.3895404 | 1.2207358 | 14.378941 | 13.539456 | 198.23646 | 0 |\n",
       "| 107.25000 | 52.62708 |  0.45268802 |  0.1703474 | 2.3319398 | 14.486853 |  9.001004 | 107.97251 | 0 |\n",
       "| 107.25781 | 39.49649 |  0.46588196 |  1.1628771 | 4.0794314 | 24.980418 |  7.397080 |  57.78474 | 0 |\n",
       "\n"
      ],
      "text/plain": [
       "   mean_ip   sd_ip    kurt_ip     skew_ip    mean_dmsnr sd_dmsnr  kurt_dmsnr\n",
       "1  140.56250 55.68378 -0.23457141 -0.6996484 3.1998328  19.110426  7.975532 \n",
       "2  102.50781 58.88243  0.46531815 -0.5150879 1.6772575  14.860146 10.576487 \n",
       "3  103.01562 39.34165  0.32332837  1.0511644 3.1212375  21.744669  7.735822 \n",
       "4  136.75000 57.17845 -0.06841464 -0.6362384 3.6429766  20.959280  6.896499 \n",
       "5   88.72656 40.67223  0.60086608  1.1234917 1.1789298  11.468720 14.269573 \n",
       "6   93.57031 46.69811  0.53190485  0.4167211 1.6362876  14.545074 10.621748 \n",
       "7  119.48438 48.76506  0.03146022 -0.1121676 0.9991639   9.279612 19.206230 \n",
       "8  130.38281 39.84406 -0.15832276  0.3895404 1.2207358  14.378941 13.539456 \n",
       "9  107.25000 52.62708  0.45268802  0.1703474 2.3319398  14.486853  9.001004 \n",
       "10 107.25781 39.49649  0.46588196  1.1628771 4.0794314  24.980418  7.397080 \n",
       "   skew_dmsnr class\n",
       "1   74.24222  0    \n",
       "2  127.39358  0    \n",
       "3   63.17191  0    \n",
       "4   53.59366  0    \n",
       "5  252.56731  0    \n",
       "6  131.39400  0    \n",
       "7  479.75657  0    \n",
       "8  198.23646  0    \n",
       "9  107.97251  0    \n",
       "10  57.78474  0    "
      ]
     },
     "metadata": {},
     "output_type": "display_data"
    }
   ],
   "source": [
    "# reading in pulsar star dataset into object named pulsar\n",
    "pulsar <- read_csv(\"https://raw.githubusercontent.com/splashhhhhh/dsci100-grp165/main/HTRU_2.csv\", col_names = FALSE)\n",
    "# cleaning data\n",
    "colnames(pulsar) <- c(\"mean_ip\", \"sd_ip\", \"kurt_ip\", \"skew_ip\", \"mean_dmsnr\", \"sd_dmsnr\", \"kurt_dmsnr\", \"skew_dmsnr\", \"class\")\n",
    "\n",
    "print(pulsar)|>\n",
    "head(10)"
   ]
  },
  {
   "cell_type": "code",
   "execution_count": 5,
   "id": "2dbc7146-5f1c-4f6f-841e-8360efd1609d",
   "metadata": {},
   "outputs": [
    {
     "data": {
      "text/html": [
       "<style>\n",
       ".list-inline {list-style: none; margin:0; padding: 0}\n",
       ".list-inline>li {display: inline-block}\n",
       ".list-inline>li:not(:last-child)::after {content: \"\\00b7\"; padding: 0 .5ex}\n",
       "</style>\n",
       "<ol class=list-inline><li>'0'</li><li>'1'</li></ol>\n"
      ],
      "text/latex": [
       "\\begin{enumerate*}\n",
       "\\item '0'\n",
       "\\item '1'\n",
       "\\end{enumerate*}\n"
      ],
      "text/markdown": [
       "1. '0'\n",
       "2. '1'\n",
       "\n",
       "\n"
      ],
      "text/plain": [
       "[1] \"0\" \"1\""
      ]
     },
     "metadata": {},
     "output_type": "display_data"
    },
    {
     "data": {
      "text/html": [
       "<table class=\"dataframe\">\n",
       "<caption>A tibble: 2 × 3</caption>\n",
       "<thead>\n",
       "\t<tr><th scope=col>class</th><th scope=col>count</th><th scope=col>percentage</th></tr>\n",
       "\t<tr><th scope=col>&lt;fct&gt;</th><th scope=col>&lt;int&gt;</th><th scope=col>&lt;dbl&gt;</th></tr>\n",
       "</thead>\n",
       "<tbody>\n",
       "\t<tr><td>0</td><td>16259</td><td>90.842552</td></tr>\n",
       "\t<tr><td>1</td><td> 1639</td><td> 9.157448</td></tr>\n",
       "</tbody>\n",
       "</table>\n"
      ],
      "text/latex": [
       "A tibble: 2 × 3\n",
       "\\begin{tabular}{lll}\n",
       " class & count & percentage\\\\\n",
       " <fct> & <int> & <dbl>\\\\\n",
       "\\hline\n",
       "\t 0 & 16259 & 90.842552\\\\\n",
       "\t 1 &  1639 &  9.157448\\\\\n",
       "\\end{tabular}\n"
      ],
      "text/markdown": [
       "\n",
       "A tibble: 2 × 3\n",
       "\n",
       "| class &lt;fct&gt; | count &lt;int&gt; | percentage &lt;dbl&gt; |\n",
       "|---|---|---|\n",
       "| 0 | 16259 | 90.842552 |\n",
       "| 1 |  1639 |  9.157448 |\n",
       "\n"
      ],
      "text/plain": [
       "  class count percentage\n",
       "1 0     16259 90.842552 \n",
       "2 1      1639  9.157448 "
      ]
     },
     "metadata": {},
     "output_type": "display_data"
    }
   ],
   "source": [
    "#Mutating the class column into a factor\n",
    "pulsar <- pulsar |>\n",
    "    mutate(class = as_factor(class))\n",
    "pulsar |>\n",
    "  pull(class) |>\n",
    "  levels()\n",
    "\n",
    "#Calculate the percentage of Class 1 stars vs Class 2 stars || Helps us with context of the data\n",
    "num_obs <- nrow(pulsar)\n",
    "pulsar |>\n",
    "    group_by(class) |>\n",
    "    summarize(count = n(),\n",
    "             percentage = n() / num_obs * 100)"
   ]
  },
  {
   "cell_type": "code",
   "execution_count": null,
   "id": "3aaed25c-4281-4025-a047-11f67090cf79",
   "metadata": {},
   "outputs": [
    {
     "data": {
      "image/png": "[encoded data removed]",
      "text/plain": [
       "plot without title"
      ]
     },
     "metadata": {
      "image/png": {
       "height": 420,
       "width": 420
      }
     },
     "output_type": "display_data"
    },
    {
     "data": {
      "image/png": "[encoded data removed]",
      "text/plain": [
       "plot without title"
      ]
     },
     "metadata": {
      "image/png": {
       "height": 420,
       "width": 420
      }
     },
     "output_type": "display_data"
    }
   ],
   "source": [
    "# All histogram charts created to visualize which would be the best predictor variable to use for the classification of pulsar stars. \n",
    "\n",
    "# Here we are looking for a defining trait/characteristic of either class 1 or class 0.\n",
    "\n",
    "# This will be concluded from the visualizations produced (looking at whether or not the class's overlap).\n",
    "# The less the class overlap, the more accurate our classifier will be with classifying whether a signal is from an actual pulsar\n",
    "# star or whether it's just a RFI\n",
    "\n",
    "mean_ip_plot <- pulsar |> \n",
    "    ggplot(aes(x = mean_ip)) +\n",
    "    geom_histogram(aes(colour = class), binwidth = 2) + \n",
    "    labs(x = \"Mean Integrated Profile\") +\n",
    "    theme(text = element_text(size = 13)) + ggtitle(\"The Mean Integrated Profile - Class 0 vs Class 1\")              \n",
    "mean_ip_plot\n",
    "\n",
    "\n",
    "sd_ip_plot <- pulsar |>\n",
    "    ggplot(aes(x = sd_ip)) +\n",
    "    geom_histogram(aes(colour = class), binwidth = 1) + \n",
    "    labs(x = \"Standard Deviation of the Integrated Profile\") +\n",
    "    theme(text = element_text(size = 13)) + ggtitle(\"Standard Deviation of the Integrated Profile - Class 0 vs Class 1\")            \n",
    "sd_ip_plot\n",
    "\n",
    "\n",
    "kurt_ip_plot <- pulsar |>\n",
    "    ggplot(aes(x = kurt_ip)) +\n",
    "    geom_histogram(aes(colour = class), binwidth = 0.1) + \n",
    "    labs(x = \"Excess Kurtosis of the Integrated Profile\") +\n",
    "    theme(text = element_text(size = 13)) + ggtitle(\"Excess Kurtosis of the Integrated Profile - Class 0 vs Class 1\")              \n",
    "kurt_ip_plot\n",
    "\n",
    "skew_ip_plot <- pulsar |>\n",
    "    ggplot(aes(x = skew_ip)) +\n",
    "    geom_histogram(aes(colour = class), binwidth = 0.8) + \n",
    "    labs(x = \"Skweness of the Integrated Profile\") +\n",
    "    theme(text = element_text(size = 13)) + ggtitle(\"Skweness of the Integrated Profile - Class 0 vs Class 1\")             \n",
    "skew_ip_plot\n",
    "\n",
    "mean_dmsnr_plot <- pulsar |>\n",
    "    ggplot(aes(x = mean_dmsnr)) +\n",
    "    geom_histogram(aes(colour = class), binwidth = 2) + \n",
    "    labs(x = \"Mean DMSNR\") +\n",
    "    theme(text = element_text(size = 13)) + ggtitle(\"Mean of the DM-SNR Curve - Class 0 vs Class 1\")             \n",
    "mean_dmsnr_plot\n",
    "\n",
    "sd_dmsnr_plot <- pulsar |>\n",
    "    ggplot(aes(x = sd_dmsnr)) +\n",
    "    geom_histogram(aes(colour = class), binwidth = 2) + \n",
    "    labs(x = \"Standard Deviation of the DM-SNR Curve\") +\n",
    "    theme(text = element_text(size = 13)) + ggtitle(\"Standard Deviation of the DM-SNR Curve - Class 0 vs Class 1\")             \n",
    "sd_dmsnr_plot\n",
    "\n",
    "kurt_dmsnr <- pulsar |>\n",
    "    ggplot(aes(x = kurt_dmsnr)) +\n",
    "    geom_histogram(aes(colour = class), binwidth = 0.4) + \n",
    "    labs(x = \"Excess Kurtosis of the DM-SNR Curve\") +\n",
    "    theme(text = element_text(size = 13)) + ggtitle(\"Excess Kurtosis of the DM-SNR Curve- Class 0 vs Class 1\")             \n",
    "kurt_dmsnr\n",
    "\n",
    "skew_dmsnr <- pulsar |>\n",
    "    ggplot(aes(x = skew_dmsnr)) +\n",
    "    geom_histogram(aes(colour = class), binwidth = 15) + \n",
    "    labs(x = \"Skewness of the DM-SNR Curve\") +\n",
    "    theme(text = element_text(size = 13)) + ggtitle(\"Skewness of the DM-SNR Curve - Class 0 vs Class 1\")             \n",
    "skew_dmsnr"
   ]
  },
  {
   "cell_type": "markdown",
   "id": "a97bad8d-eb07-4b72-a678-cc5d8ee7f9a8",
   "metadata": {},
   "source": [
    "Since mean_ip and kurt_ip have the most obvious difference between the range of Class 0 compared to that of Class 1, we are going to use mean and excess kurtosis of the integrated profile columns from pulsar training data as our predictor variables."
   ]
  },
  {
   "cell_type": "code",
   "execution_count": null,
   "id": "949028d9-8eea-4ed3-8bd5-856c8cbf72c8",
   "metadata": {},
   "outputs": [],
   "source": [
    "avg_mean_kurt <- pulsar_training |>\n",
    "    select(mean_ip, kurt_ip) |>\n",
    "    map_df(mean)\n",
    "avg_mean_kurt"
   ]
  },
  {
   "cell_type": "markdown",
   "id": "ae427df6-134f-4e8d-a526-6d4ee45dcc96",
   "metadata": {},
   "source": [
    "The mean of integrated profile mean is 111.0601 and the mean of integrated profile excess kurtosis is 0.4772199."
   ]
  },
  {
   "cell_type": "code",
   "execution_count": null,
   "id": "4c8c9dbd-aca3-4df2-a181-7f0a4ab3ccae",
   "metadata": {},
   "outputs": [],
   "source": [
    "sum(is.na(pulsar_training))"
   ]
  },
  {
   "cell_type": "markdown",
   "id": "00d2655d-3db4-4426-b281-f964c56decfd",
   "metadata": {},
   "source": [
    "Since the sum function is equal to 0, we have no rows with missing data."
   ]
  },
  {
   "cell_type": "markdown",
   "id": "d0ef7fef-0ae8-4b00-a151-a0c7708253fd",
   "metadata": {},
   "source": [
    "## *Data Analysis*"
   ]
  },
  {
   "cell_type": "markdown",
   "id": "a8c66205-20cf-4863-b81f-a31fd88f013a",
   "metadata": {},
   "source": [
    "Now that we have our predictor variables, we can begin classification using the KNN model"
   ]
  },
  {
   "cell_type": "code",
   "execution_count": 1,
   "id": "1b1d176f-473b-4b85-b707-04290e46640b",
   "metadata": {},
   "outputs": [
    {
     "ename": "ERROR",
     "evalue": "Error in initial_split(pulsar, prop = 0.75, strata = class): could not find function \"initial_split\"\n",
     "output_type": "error",
     "traceback": [
      "Error in initial_split(pulsar, prop = 0.75, strata = class): could not find function \"initial_split\"\nTraceback:\n"
     ]
    }
   ],
   "source": [
    "set.seed(2020)\n",
    "\n",
    "#Splitting data into a test set and training set so we can use KNN-classification\n",
    "pulsar_split <- initial_split(pulsar, prop = 0.75, strata = class)\n",
    "pulsar_training <- training(pulsar_split)\n",
    "pulsar_testing <- testing(pulsar_split)\n",
    "\n",
    "\n",
    "# Data reprocessing in a recipe\n",
    "pulsar_recipe <- recipe(class ~ mean_ip + kurt_ip, data = pulsar_training) |>\n",
    "   step_scale(all_predictors()) |>\n",
    "   step_center(all_predictors())\n",
    "knn_spec <- nearest_neighbor(weight_func = \"rectangular\", neighbors = 3) |>\n",
    "      set_engine(\"kknn\") |>\n",
    "      set_mode(\"classification\")\n",
    "\n",
    "pulsar_fit <- workflow() |>\n",
    "      add_recipe(pulsar_recipe) |>\n",
    "      add_model(knn_spec) |>\n",
    "      fit(data = pulsar_training)\n",
    "\n",
    "# # add the column of predictions to the original test data.\n",
    "# pulsar_test_predictions <- predict(pulsar_fit, pulsar_testing) |>\n",
    "#       bind_cols(pulsar_testing)\n",
    "\n",
    "# # checking the classifiers accuracy\n",
    "# pulsar_prediction_accuracy <- pulsar_test_predictions |>\n",
    "#      metrics(truth = class, estimate = .pred_class)             \n",
    "\n",
    "# # creating a confusion matrix to show us the table of predicted labels and correct labels.\n",
    "# pulsar_mat <- pulsar_test_predictions |> \n",
    "#     conf_mat(truth = class, estimate = .pred_class)\n",
    "# pulsar_mat\n",
    "\n",
    "# tuning the model : cross validation\n",
    "\n",
    "pulsar_vfold <- vfold_cv(pulsar_training, v = 5, strata = class)\n",
    "\n",
    "pulsar_resample_fit <- workflow() |>\n",
    "      add_recipe(pulsar_recipe) |>\n",
    "      add_model(knn_spec) |>\n",
    "      fit_resamples(resamples = pulsar_vfold)\n",
    "\n",
    "\n",
    "pulsar_metrics <- collect_metrics(pulsar_resample_fit)\n",
    "pulsar_metrics\n",
    "\n",
    "knn_tune <- nearest_neighbor(weight_func = \"rectangular\", neighbors = tune()) |>\n",
    "        set_engine(\"kknn\") |>\n",
    "      set_mode(\"classification\")\n",
    "\n",
    "knn_results <- workflow() |>\n",
    "      add_recipe(pulsar_recipe) |>\n",
    "      add_model(knn_tune) |>\n",
    "      tune_grid(resamples = pulsar_vfold, grid = 10) |>\n",
    "      collect_metrics()\n",
    "\n",
    "accuracies <- knn_results |> \n",
    "    filter(.metric == \"accuracy\")\n",
    "\n",
    "accuracy_versus_k <- ggplot(accuracies, aes(x = neighbors, y = mean))+\n",
    "      geom_point() +\n",
    "      geom_line() +\n",
    "      labs(x = \"Neighbors\", y = \"Accuracy Estimate\") +\n",
    "      scale_x_continuous(breaks = seq(0, 14, by = 1)) +  # adjusting the x-axis\n",
    "      scale_y_continuous(limits = c(0.4, 1.0)) # adjusting the y-axis\n",
    "accuracy_versus_k\n",
    "\n",
    "# Performing K-nearest neighbors (KNN)\n"
   ]
  },
  {
   "cell_type": "markdown",
   "id": "06a2dccf-bf54-43b7-894c-5a9da2d32a1a",
   "metadata": {},
   "source": [
    "## *Methods & Results*"
   ]
  },
  {
   "cell_type": "markdown",
   "id": "45f12a3a-3f6a-4d94-8c2e-4bda58f68f9d",
   "metadata": {},
   "source": [
    "### 1) Data analysis and predictors variables choosing"
   ]
  },
  {
   "cell_type": "markdown",
   "id": "2b047c6f-302b-4d0c-a3c7-700183055513",
   "metadata": {
    "tags": []
   },
   "source": [
    "We split the dataset into training and testing with a ratio of 3:1 and scale the training set by selecting 1000 rows, as a huge difference in sample numbers occurs between class 0 and class 1. Therefore, taking 1000 samples from the dataset increases the accuracy of our plot when comparing the frequency between two classes.\n",
    "\n",
    "For predictors variables, we plan to use the mean and the excess kurtosis of the integrated profile, because from visualizing 8 variables by histograms, the mean_ip and kurt_ip have the smallest overlap between two classes. For example, for mean_ip, the highest frequency of class 1 occurs between 0-100, while the highest frequency of class 0 happens between 50-150. For kurt_ip, class 0 data mainly locates around 0, but class 1 data scatters between 0-6.\n",
    "\n",
    "By selecting two with the most obvious range differences between class 0 and 1, we could use them as predictors to develop a classification model, using to predict whether a new signal belongs to the radio wave caused by RFI and noise or real pulsar stars. Later in our project, we will create a k-nearest neighbours model using two predictors selected from above, tune it via 5-fold cross-validation, and evaluate its accuracy using our testing datasets."
   ]
  },
  {
   "cell_type": "markdown",
   "id": "611ebe52-2393-4b0a-9a46-3cfe6af670ff",
   "metadata": {},
   "source": [
    "### 2) A possible way of visualization"
   ]
  },
  {
   "cell_type": "markdown",
   "id": "a24c9334-32ea-49a3-9a05-23e7ab419e64",
   "metadata": {},
   "source": [
    "One way of visualizing our results is we use cross-validation to calculate an accuracy for each value of K in a reasonable range and plot the estimated accuracy versus different K values using line graph. In this way, we can visualize to decide the best K with the highest accuracy from the plot."
   ]
  },
  {
   "cell_type": "markdown",
   "id": "79a9bc81-74f1-486f-9a66-814d4e57a904",
   "metadata": {},
   "source": [
    "## *Expected Outcomes and Significance || Discussion*"
   ]
  },
  {
   "cell_type": "markdown",
   "id": "d003347d-b617-4686-8204-34b0afdc366d",
   "metadata": {},
   "source": [
    "### 1) What we expect to find"
   ]
  },
  {
   "cell_type": "markdown",
   "id": "7bedf5f2-4659-4279-b685-755d3f3338f2",
   "metadata": {},
   "source": [
    "Through visualizing the pulsar data set, we expect to differentiate whether signals are from actual pulsar stars or simply RFI noise by using the K-nearest neighbour classification. By using the training dataset, we can train the model to better predict the class samples."
   ]
  },
  {
   "cell_type": "markdown",
   "id": "ba9edce6-ab65-478f-8f67-5c03bc3df658",
   "metadata": {},
   "source": [
    "### 2) Impact of the findings"
   ]
  },
  {
   "cell_type": "markdown",
   "id": "6aa3b2cf-30f6-4513-9688-8b0a57ea3dcd",
   "metadata": {},
   "source": [
    "According to Debesai et al. (2020), pulsar stars are valuable in science, because they release highly regular and periodic signals. Identifying a pulsar star and finding deviated signals from its normal period can help to detect gravity waves, dark matter, and other cosmic phenomena (Debesai et al., 2020)"
   ]
  },
  {
   "cell_type": "markdown",
   "id": "d9948633-8f15-4b01-948d-fde6a20b717f",
   "metadata": {},
   "source": [
    "### 3) Future Questions"
   ]
  },
  {
   "cell_type": "markdown",
   "id": "9f8d27eb-8716-4c72-98bb-909ad5de31c7",
   "metadata": {},
   "source": [
    "Future scope for research can strive to improve the accuracy of the model, since classification methods like KNN classification can be challenging when the dataset is imbalance, that is, the data from one class is significantly more than that of the other class. \n",
    "\n",
    "Shi (2020) suggested three ways to improve the performance of KNN model in imbalanced dataset: random oversampling, random undersampling, or ensemble oversampling to the training data. Further investigation can focus on determining which data sampling algorithms fit the best for the classification problem of pulsar stars and RFI noise."
   ]
  },
  {
   "cell_type": "markdown",
   "id": "4583007a-fa70-46b4-8341-e4d57759534f",
   "metadata": {},
   "source": [
    "## *References*"
   ]
  },
  {
   "cell_type": "markdown",
   "id": "46027043-327e-4692-b8a1-0e35778a9cd4",
   "metadata": {},
   "source": [
    "Debesai, S., Gutierrez, C., & Ugur Koyluoglu, N. (2020). Application of machine learning methods to identify and categorize radio pulsar signal candidates. 11.\n"
   ]
  },
  {
   "cell_type": "markdown",
   "id": "121e0843-13db-44d8-aa23-af4cb7d234e4",
   "metadata": {},
   "source": [
    "Shi, Z. (2020). Improving k-Nearest Neighbors Algorithm for Imbalanced Data Classification. *IOP Conference Series: Materials Science and Engineering*, 719(1), 012072. https://doi.org/10.1088/1757-899X/719/1/012072\n"
   ]
  },
  {
   "cell_type": "code",
   "execution_count": null,
   "id": "6553eb53-7205-4166-97ef-032fd27feaf8",
   "metadata": {},
   "outputs": [],
   "source": []
  }
 ],
 "metadata": {
  "kernelspec": {
   "display_name": "R",
   "language": "R",
   "name": "ir"
  },
  "language_info": {
   "codemirror_mode": "r",
   "file_extension": ".r",
   "mimetype": "text/x-r-source",
   "name": "R",
   "pygments_lexer": "r",
   "version": "4.1.3"
  }
 },
 "nbformat": 4,
 "nbformat_minor": 5
}
